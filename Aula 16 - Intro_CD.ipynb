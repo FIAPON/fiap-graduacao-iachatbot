{
 "cells": [
  {
   "cell_type": "markdown",
   "metadata": {},
   "source": [
    "# Introdução à Ciência de Dados\n",
    "\n",
    "Bem-vindos à primeira aula sobre **Ciência de Dados**! Nesta sessão, exploraremos os fundamentos da Ciência de Dados, entendendo suas definições, conceitos básicos, importância e aplicações em diversas indústrias.\n",
    "\n",
    "## 1.1 O Que é Ciência de Dados?\n",
    "\n",
    "### Definição\n",
    "Ciência de Dados é um campo interdisciplinar que utiliza métodos, processos, algoritmos e sistemas científicos para extrair conhecimento e insights a partir de dados estruturados e não estruturados. Combina técnicas de estatística, matemática, programação e conhecimento do domínio para resolver problemas complexos.\n",
    "\n",
    "### Conceitos Básicos\n",
    "- **Dados:** Matéria-prima da ciência de dados, podem ser números, textos, imagens, vídeos, etc.\n",
    "- **Informação:** Dados processados e organizados de forma que tenham significado.\n",
    "- **Conhecimento:** Informação interpretada e contextualizada que pode ser utilizada para a tomada de decisões.\n",
    "\n",
    "## 1.2 Diferenças Entre Ciência de Dados, Estatística e Business Intelligence\n",
    "\n",
    "### Ciência de Dados vs. Estatística\n",
    "- **Estatística:**\n",
    "  - Foco em análise de dados, inferência e interpretação de resultados.\n",
    "  - Utiliza métodos matemáticos para descrever e inferir propriedades de populações a partir de amostras.\n",
    "- **Ciência de Dados:**\n",
    "  - Mais abrangente, incluindo coleta, limpeza, análise, visualização e interpretação de dados.\n",
    "  - Incorpora técnicas de aprendizado de máquina e inteligência artificial para previsões e decisões automatizadas.\n",
    "\n",
    "### Ciência de Dados vs. Business Intelligence (BI)\n",
    "- **Business Intelligence:**\n",
    "  - Foco em análise descritiva para entender o que aconteceu no passado.\n",
    "  - Utiliza ferramentas de relatório, dashboards e consultas para monitorar KPIs (Indicadores-Chave de Desempenho).\n",
    "- **Ciência de Dados:**\n",
    "  - Foco em análise preditiva e prescritiva para prever o que pode acontecer e recomendar ações.\n",
    "  - Utiliza algoritmos de machine learning e modelagem estatística para insights mais profundos e complexos.\n",
    "\n",
    "## 1.3 Importância da Ciência de Dados\n",
    "\n",
    "### Tomada de Decisões Baseada em Dados\n",
    "Permite que organizações tomem decisões informadas e estratégicas, reduzindo a dependência de intuições ou suposições.\n",
    "\n",
    "### Competitividade no Mercado\n",
    "Empresas que utilizam ciência de dados de forma eficaz conseguem identificar oportunidades de mercado, otimizar operações e personalizar experiências para os clientes.\n",
    "\n",
    "### Inovação e Desenvolvimento\n",
    "Fomenta a inovação ao identificar novas tendências, padrões e relações nos dados que podem levar ao desenvolvimento de novos produtos e serviços.\n",
    "\n",
    "## 1.4 Aplicações da Ciência de Dados em Diversas Indústrias\n",
    "\n",
    "### Saúde\n",
    "- **Diagnóstico Precoce:** Utilização de modelos preditivos para identificar doenças antes que os sintomas apareçam.\n",
    "- **Medicina Personalizada:** Desenvolvimento de tratamentos personalizados com base no perfil genético do paciente.\n",
    "\n",
    "### Finanças\n",
    "- **Detecção de Fraudes:** Identificação de transações suspeitas em tempo real.\n",
    "- **Gestão de Riscos:** Avaliação de riscos de crédito e investimentos com maior precisão.\n",
    "\n",
    "### Tecnologia\n",
    "- **Recomendações Personalizadas:** Sistemas de recomendação em plataformas como Netflix e Amazon.\n",
    "- **Análise de Sentimento:** Monitoramento e análise de opiniões de usuários em redes sociais e avaliações de produtos.\n",
    "\n",
    "### Varejo\n",
    "- **Gestão de Estoque:** Previsão de demanda para otimizar níveis de estoque.\n",
    "- **Marketing Direcionado:** Segmentação de clientes para campanhas de marketing mais eficazes.\n",
    "\n",
    "### Manufatura\n",
    "- **Manutenção Preditiva:** Previsão de falhas em máquinas para realizar manutenções preventivas.\n",
    "- **Otimização de Processos:** Análise de dados de produção para melhorar a eficiência e reduzir custos.\n",
    "\n",
    "### Transportes e Logística\n",
    "- **Roteirização Otimizada:** Planejamento de rotas mais eficientes para reduzir tempo e custos.\n",
    "- **Gestão de Frotas:** Monitoramento em tempo real para melhorar a utilização e manutenção dos veículos.\n",
    "\n",
    "## 1.5 Exemplos de Projetos de Ciência de Dados\n",
    "\n",
    "### Projeto 1: Previsão de Vendas\n",
    "- **Objetivo:** Prever as vendas futuras de um produto.\n",
    "- **Dados Utilizados:** Histórico de vendas, dados de marketing, sazonalidade, etc.\n",
    "- **Métodos:** Regressão linear, séries temporais.\n",
    "\n",
    "### Projeto 2: Análise de Sentimento em Redes Sociais\n",
    "- **Objetivo:** Entender a percepção dos consumidores sobre uma marca.\n",
    "- **Dados Utilizados:** Postagens e comentários em redes sociais.\n",
    "- **Métodos:** Processamento de Linguagem Natural (NLP), análise de sentimento.\n",
    "\n",
    "### Projeto 3: Detecção de Anomalias em Transações Financeiras\n",
    "- **Objetivo:** Identificar transações fraudulentas.\n",
    "- **Dados Utilizados:** Histórico de transações, padrões de comportamento.\n",
    "- **Métodos:** Algoritmos de detecção de anomalias, aprendizado supervisionado.\n",
    "\n",
    "## 1.6 Desafios na Ciência de Dados\n",
    "\n",
    "### Qualidade dos Dados\n",
    "Dados incompletos, inconsistentes ou incorretos podem comprometer a análise e os resultados.\n",
    "\n",
    "### Privacidade e Segurança\n",
    "Garantir a proteção dos dados sensíveis e cumprir regulamentações como a LGPD (Lei Geral de Proteção de Dados).\n",
    "\n",
    "### Interpretação dos Resultados\n",
    "Transformar insights em ações práticas requer uma compreensão profunda do contexto e do domínio de aplicação.\n",
    "\n",
    "### Escalabilidade\n",
    "Gerenciar e processar grandes volumes de dados de forma eficiente.\n",
    "\n",
    "## Referências e Recursos Adicionais\n",
    "\n",
    "- **Livros:**\n",
    "  - *“Data Science for Business”* de Foster Provost e Tom Fawcett.\n",
    "  - *“Python for Data Analysis”* de Wes McKinney.\n",
    "  \n",
    "- **Comunidades:**\n",
    "  - [Kaggle](https://www.kaggle.com/)\n",
    "\n",
    "---\n",
    "\n",
    "**Dica para os Estudantes:** Pense na ciência de dados como uma ponte entre dados brutos e decisões estratégicas. Ao longo deste curso, você desenvolverá as habilidades necessárias para construir essa ponte de forma eficaz e impactante."
   ]
  },
  {
   "cell_type": "markdown",
   "metadata": {},
   "source": [
    "# Ciclo de Vida de um Projeto de Ciência de Dados\n",
    "\n",
    "O ciclo de vida de um projeto de Ciência de Dados abrange todas as etapas necessárias para transformar dados brutos em insights valiosos. A seguir, são descritas as principais fases desse ciclo.\n",
    "\n",
    "## 1. Entendimento do Problema\n",
    "- **Identificação do Problema:** Compreender claramente o que precisa ser resolvido.\n",
    "- **Definição dos Objetivos:** Estabelecer metas específicas e mensuráveis.\n",
    "- **Envolvimento das Partes Interessadas:** Colaborar com stakeholders para alinhar expectativas e requisitos.\n",
    "\n",
    "## 2. Coleta de Dados\n",
    "- **Fontes de Dados:** Identificar fontes internas e externas, como bancos de dados, APIs, arquivos CSV, etc.\n",
    "- **Métodos de Coleta:** Utilizar técnicas como scraping, consultas a bancos de dados, integração de APIs.\n",
    "- **Considerações Éticas:** Garantir a privacidade dos dados, obter consentimento quando necessário e cumprir regulamentações como a LGPD.\n",
    "\n",
    "## 3. Limpeza e Pré-processamento de Dados\n",
    "- **Tratamento de Dados Faltantes:** Identificar e lidar com valores ausentes através de imputação ou remoção.\n",
    "- **Correção de Inconsistências:** Padronizar formatos, corrigir erros e eliminar duplicatas.\n",
    "- **Normalização:** Escalar os dados para um intervalo comum, facilitando a modelagem.\n",
    "\n",
    "## 4. Análise Exploratória de Dados (EDA)\n",
    "- **Visualização de Dados:** Utilizar gráficos e plots para identificar padrões e tendências.\n",
    "- **Estatísticas Descritivas:** Calcular métricas como média, mediana, variância para resumir os dados.\n",
    "- **Identificação de Outliers:** Detectar e analisar valores atípicos que podem influenciar a modelagem.\n",
    "\n",
    "## 5. Modelagem e Algoritmos\n",
    "- **Seleção de Algoritmos:** Escolher algoritmos de machine learning adequados ao problema (e.g., regressão, classificação, clustering).\n",
    "- **Treinamento do Modelo:** Utilizar dados de treinamento para ajustar os parâmetros do modelo.\n",
    "- **Ajuste de Hiperparâmetros:** Otimizar os parâmetros do modelo para melhorar a performance.\n",
    "\n",
    "## 6. Avaliação e Validação de Modelos\n",
    "- **Métricas de Performance:** Utilizar métricas como acurácia, precisão, recall, F1-score para avaliar o modelo.\n",
    "- **Validação Cruzada:** Dividir os dados em conjuntos de treino e teste múltiplas vezes para garantir a robustez do modelo.\n",
    "- **Teste em Dados Não Vistos:** Avaliar a capacidade do modelo de generalizar para novos dados.\n",
    "\n",
    "## 7. Implementação e Deploy\n",
    "- **Integração com Sistemas Existentes:** Garantir que o modelo possa ser utilizado pelas aplicações em produção.\n",
    "- **Automatização de Processos:** Implementar pipelines para automatizar a coleta, pré-processamento e inferência de dados.\n",
    "- **Monitoramento:** Acompanhar a performance do modelo em tempo real para identificar possíveis degradações.\n",
    "\n",
    "## 8. Manutenção e Atualização\n",
    "- **Monitoramento Contínuo:** Verificar constantemente a performance do modelo e a qualidade dos dados.\n",
    "- **Atualização de Modelos:** Re-treinar o modelo com novos dados para manter sua relevância e precisão.\n",
    "- **Documentação e Gestão de Versionamento:** Manter registros detalhados das alterações e versões dos modelos para facilitar futuras manutenções.\n",
    "\n",
    "---\n"
   ]
  },
  {
   "cell_type": "markdown",
   "metadata": {},
   "source": [
    "## 1. Importação das Bibliotecas Necessárias\n",
    "\n",
    "Vamos começar importando as bibliotecas essenciais para manipulação e visualização de dados."
   ]
  },
  {
   "cell_type": "code",
   "execution_count": null,
   "metadata": {
    "vscode": {
     "languageId": "plaintext"
    }
   },
   "outputs": [],
   "source": [
    "import pandas as pd\n",
    "import numpy as np\n",
    "import matplotlib.pyplot as plt\n",
    "import seaborn as sns\n",
    "\n",
    "# Configurações de visualização\n",
    "%matplotlib inline\n",
    "sns.set(style=\"whitegrid\")\n"
   ]
  },
  {
   "cell_type": "markdown",
   "metadata": {},
   "source": [
    "## 2. Carregamento dos Dados\n",
    "\n",
    "Utilizaremos o conjunto de dados de **Qualidade do Vinho** disponível no [UCI Machine Learning Repository](https://archive.ics.uci.edu/ml/machine-learning-databases/wine-quality/winequality-red.csv).\n"
   ]
  },
  {
   "cell_type": "code",
   "execution_count": null,
   "metadata": {
    "vscode": {
     "languageId": "plaintext"
    }
   },
   "outputs": [],
   "source": [
    "# URL do dataset de qualidade do vinho\n",
    "url = 'https://archive.ics.uci.edu/ml/machine-learning-databases/wine-quality/winequality-red.csv'\n",
    "\n",
    "# Carregando o dataset com separador ';'\n",
    "df = pd.read_csv(url, sep=';')\n",
    "\n",
    "# Exibindo as primeiras 5 linhas do dataset\n",
    "df.head()\n"
   ]
  },
  {
   "cell_type": "markdown",
   "metadata": {},
   "source": [
    "## 3. Exploração Inicial dos Dados\n",
    "\n",
    "Vamos entender a estrutura e as características básicas do nosso conjunto de dados.\n"
   ]
  },
  {
   "cell_type": "code",
   "execution_count": null,
   "metadata": {
    "vscode": {
     "languageId": "plaintext"
    }
   },
   "outputs": [],
   "source": [
    "# Informações gerais do dataset\n",
    "df.info()\n"
   ]
  },
  {
   "cell_type": "code",
   "execution_count": null,
   "metadata": {
    "vscode": {
     "languageId": "plaintext"
    }
   },
   "outputs": [],
   "source": [
    "# Estatísticas descritivas\n",
    "df.describe()\n"
   ]
  },
  {
   "cell_type": "markdown",
   "metadata": {},
   "source": [
    "## 4. Introdução de Valores Faltantes Artificialmente para Demonstração\n",
    "\n",
    "Para fins educacionais, vamos introduzir alguns valores faltantes nas colunas `alcohol` e `sulphates`.\n",
    "\n",
    "O que são Dados Faltantes?\n",
    "\n",
    "Dados faltantes referem-se a ausências ou lacunas em um conjunto de dados onde um valor esperado está ausente. Isso pode ocorrer por diversos motivos, como erros de coleta, falhas no armazenamento de dados, respostas omitidas em pesquisas, entre outros.\n",
    "Tipos de Dados Faltantes\n",
    "\n",
    "* MCAR (Missing Completely at Random):\n",
    "   - Definição: Os dados faltantes ocorrem completamente ao acaso, sem qualquer relação com outras variáveis ou com os próprios valores ausentes.\n",
    "   - Exemplo: Um sensor falha aleatoriamente e não há padrão nos dados ausentes.\n",
    "\n",
    "* MAR (Missing at Random):\n",
    "   - Definição: A probabilidade de um dado estar faltando está relacionada a outras variáveis observadas no dataset, mas não ao próprio valor ausente.\n",
    "   - Exemplo: Em uma pesquisa, a falta de resposta sobre renda pode estar relacionada à idade, mas não diretamente ao valor da renda.\n",
    "\n",
    "* MNAR (Missing Not at Random):\n",
    "   - Definição: A probabilidade de um dado estar faltando está relacionada ao próprio valor que está faltando.\n",
    "   - Exemplo: Pessoas com renda muito alta ou muito baixa podem ter maior probabilidade de não declarar sua renda.\n",
    "\n",
    "Impacto dos Dados Faltantes\n",
    "\n",
    "- Análise e Modelagem: Dados faltantes podem levar a análises enviesadas ou imprecisas, afetando a qualidade dos modelos preditivos.\n",
    "- Redução de Tamanho do Dataset: A exclusão de registros com dados faltantes pode reduzir significativamente o tamanho do conjunto de dados, prejudicando a representatividade.\n",
    "- Interpretação Errônea: A presença de dados faltantes pode distorcer métricas estatísticas e visualizações, levando a interpretações equivocadas."
   ]
  },
  {
   "cell_type": "code",
   "execution_count": null,
   "metadata": {
    "vscode": {
     "languageId": "plaintext"
    }
   },
   "outputs": [],
   "source": [
    "# Definindo uma semente para reprodutibilidade\n",
    "np.random.seed(42)\n",
    "\n",
    "# Introduzindo 5% de valores faltantes em 'alcohol' e 'sulphates'\n",
    "for col in ['alcohol', 'sulphates']:\n",
    "    df.loc[df.sample(frac=0.05).index, col] = np.nan\n",
    "\n",
    "# Verificando a presença de valores faltantes após introdução\n",
    "df.isnull().sum()\n"
   ]
  },
  {
   "cell_type": "markdown",
   "metadata": {},
   "source": [
    "## 5. Visualização de Valores Faltantes\n",
    "\n",
    "Vamos visualizar onde estão os valores faltantes utilizando um mapa de calor.\n"
   ]
  },
  {
   "cell_type": "code",
   "execution_count": null,
   "metadata": {
    "vscode": {
     "languageId": "plaintext"
    }
   },
   "outputs": [],
   "source": [
    "plt.figure(figsize=(10,6))\n",
    "sns.heatmap(df.isnull(), cbar=False, cmap='viridis')\n",
    "plt.title(\"Mapa de Valores Faltantes\")\n",
    "plt.show()\n"
   ]
  },
  {
   "cell_type": "markdown",
   "metadata": {},
   "source": [
    "Interpretação do Mapa de Valores Faltantes:\n",
    "\n",
    "* Linhas: Representam os registros (vinhos) no dataset.\n",
    "* Colunas: Representam as variáveis (features) do dataset.\n",
    "* Cores: Indicam a presença (ou ausência) de valores faltantes. Geralmente, uma cor específica (como amarelo) indica valores ausentes."
   ]
  },
  {
   "cell_type": "markdown",
   "metadata": {},
   "source": [
    "## 6. Tratamento de Valores Faltantes\n",
    "\n",
    "Optaremos por imputar os valores faltantes com a média das respectivas colunas.\n"
   ]
  },
  {
   "cell_type": "code",
   "execution_count": null,
   "metadata": {
    "vscode": {
     "languageId": "plaintext"
    }
   },
   "outputs": [],
   "source": [
    "# Imputação com a média para as colunas 'alcohol' e 'sulphates'\n",
    "for col in ['alcohol', 'sulphates']:\n",
    "    mean_value = df[col].mean()\n",
    "    df[col].fillna(mean_value, inplace=True)\n",
    "    print(f\"Valores faltantes em '{col}' preenchidos com a média: {mean_value:.2f}\")\n"
   ]
  },
  {
   "cell_type": "code",
   "execution_count": null,
   "metadata": {
    "vscode": {
     "languageId": "plaintext"
    }
   },
   "outputs": [],
   "source": [
    "# Verificando novamente valores faltantes após imputação\n",
    "df.isnull().sum()\n"
   ]
  },
  {
   "cell_type": "markdown",
   "metadata": {},
   "source": [
    "## 7. Engenharia de Features\n",
    "\n",
    "Vamos criar novas variáveis que podem ser úteis para análises futuras.\n"
   ]
  },
  {
   "cell_type": "code",
   "execution_count": null,
   "metadata": {
    "vscode": {
     "languageId": "plaintext"
    }
   },
   "outputs": [],
   "source": [
    "# Exemplo 1: Criar uma feature categórica baseada no teor alcoólico\n",
    "def alcohol_level(alcohol):\n",
    "    if alcohol < 10:\n",
    "        return 'baixo'\n",
    "    elif 10 <= alcohol <= 12:\n",
    "        return 'médio'\n",
    "    else:\n",
    "        return 'alto'\n",
    "\n",
    "df['alcohol_level'] = df['alcohol'].apply(alcohol_level)\n"
   ]
  },
  {
   "cell_type": "code",
   "execution_count": null,
   "metadata": {
    "vscode": {
     "languageId": "plaintext"
    }
   },
   "outputs": [],
   "source": [
    "# Exemplo 2: Criar uma feature que combina ácidos fixos e voláteis\n",
    "df['acidity_total'] = df['fixed acidity'] + df['volatile acidity']\n"
   ]
  },
  {
   "cell_type": "code",
   "execution_count": null,
   "metadata": {
    "vscode": {
     "languageId": "plaintext"
    }
   },
   "outputs": [],
   "source": [
    "# Exemplo 3: Criar uma feature de densidade categórica\n",
    "def density_category(density):\n",
    "    if density < 0.99:\n",
    "        return 'leve'\n",
    "    elif 0.99 <= density <= 1.01:\n",
    "        return 'médio'\n",
    "    else:\n",
    "        return 'pesada'\n",
    "\n",
    "df['density_category'] = df['density'].apply(density_category)\n"
   ]
  },
  {
   "cell_type": "markdown",
   "metadata": {},
   "source": [
    "## 8. Visualização das Novas Features\n",
    "\n",
    "Vamos visualizar as distribuições e relações das novas features criadas.\n"
   ]
  },
  {
   "cell_type": "code",
   "execution_count": null,
   "metadata": {
    "vscode": {
     "languageId": "plaintext"
    }
   },
   "outputs": [],
   "source": [
    "# Distribuição dos níveis de álcool\n",
    "plt.figure(figsize=(8,5))\n",
    "sns.countplot(x='alcohol_level', data=df, palette='pastel')\n",
    "plt.title(\"Distribuição dos Níveis de Álcool\")\n",
    "plt.xlabel(\"Nível de Álcool\")\n",
    "plt.ylabel(\"Contagem\")\n",
    "plt.show()\n"
   ]
  },
  {
   "cell_type": "code",
   "execution_count": null,
   "metadata": {
    "vscode": {
     "languageId": "plaintext"
    }
   },
   "outputs": [],
   "source": [
    "# Relação entre acidez total e qualidade do vinho\n",
    "plt.figure(figsize=(10,6))\n",
    "sns.scatterplot(x='acidity_total', y='quality', data=df, hue='alcohol_level', palette='deep')\n",
    "plt.title(\"Relação entre Acidez Total e Qualidade do Vinho\")\n",
    "plt.xlabel(\"Acidez Total (fixed + volatile)\")\n",
    "plt.ylabel(\"Qualidade\")\n",
    "plt.show()\n"
   ]
  },
  {
   "cell_type": "markdown",
   "metadata": {},
   "source": [
    "## 9. Visualização Final dos Dados Processados\n",
    "\n",
    "Vamos observar as primeiras linhas do dataset após as transformações realizadas.\n"
   ]
  },
  {
   "cell_type": "code",
   "execution_count": null,
   "metadata": {
    "vscode": {
     "languageId": "plaintext"
    }
   },
   "outputs": [],
   "source": [
    "# Primeiras 5 linhas do dataset após engenharia de features\n",
    "df.head()\n"
   ]
  },
  {
   "cell_type": "code",
   "execution_count": null,
   "metadata": {
    "vscode": {
     "languageId": "plaintext"
    }
   },
   "outputs": [],
   "source": [
    "# Informações gerais do dataset após processamento\n",
    "df.info()\n"
   ]
  },
  {
   "cell_type": "markdown",
   "metadata": {},
   "source": [
    "## Considerações Finais\n",
    "\n",
    "Neste exemplo, abordamos várias etapas fundamentais da Ciência de Dados:\n",
    "\n",
    "- **Carregamento e Exploração de Dados:** Entendimento da estrutura e características do dataset.\n",
    "- **Tratamento de Valores Faltantes:** Identificação e imputação de dados ausentes.\n",
    "- **Engenharia de Features:** Criação de novas variáveis para enriquecer a análise.\n",
    "- **Visualização de Dados:** Utilização de gráficos para melhor compreensão das relações e distribuições.\n",
    "\n",
    "Essas etapas são essenciais para preparar os dados antes de aplicar modelos de Machine Learning ou realizar análises mais aprofundadas.\n"
   ]
  },
  {
   "cell_type": "markdown",
   "metadata": {},
   "source": [
    "---\n",
    "# **Exercícios Propostos**\n",
    "\n",
    "## **1. Tratamento de Valores Faltantes com Diferentes Estratégias**\n",
    "\n",
    "**Objetivo:** Explorar diferentes métodos de imputação de valores faltantes e avaliar seus impactos nos dados.\n",
    "\n",
    "**Instruções:**\n",
    "- **a.** Identifique quais colunas possuem valores faltantes no dataset.\n",
    "- **b.** Além da imputação com a média, implemente outras estratégias para preencher os valores faltantes, como:\n",
    "  - **Mediana:** Substituir os valores faltantes pela mediana da coluna.\n",
    "  - **Moda:** Para colunas categóricas, substituir pelos valores mais frequentes.\n",
    "  - **Interpolação:** Utilizar métodos de interpolação para preencher os valores faltantes.\n",
    "- **c.** Compare os resultados das diferentes estratégias aplicadas. Quais métodos preservam melhor a distribuição original dos dados?\n",
    "- **d.** Discuta as vantagens e desvantagens de cada método de imputação utilizado.\n",
    "\n",
    "**Dica:** Utilize as funções `median()`, `mode()` e `interpolate()` do Pandas para realizar as imputações.\n",
    "\n",
    "---\n",
    "\n",
    "## **2. Criação de Novas Features**\n",
    "\n",
    "**Objetivo:** Desenvolver habilidades em engenharia de features para enriquecer o dataset com informações adicionais.\n",
    "\n",
    "**Instruções:**\n",
    "- **a.** Crie uma nova feature que categorize a qualidade do vinho em \"Baixa\", \"Média\" e \"Alta\" com base na coluna `quality`. Defina os intervalos de classificação conforme achar apropriado.\n",
    "- **b.** Crie uma feature que calcule a relação entre `residual sugar` e `fixed acidity`. Por exemplo, uma razão que indique o equilíbrio entre açúcar residual e acidez fixa.\n",
    "- **c.** Utilize a técnica de **One-Hot Encoding** para transformar a feature categórica `alcohol_level` em variáveis dummy.\n",
    "- **d.** Explique como as novas features podem contribuir para futuras análises ou modelos preditivos.\n",
    "\n",
    "**Dica:** Utilize métodos como `apply()`, `cut()` e `get_dummies()` do Pandas para criar e transformar as features.\n",
    "\n",
    "---\n",
    "\n",
    "## **3. Análise Exploratória de Dados Adicional**\n",
    "\n",
    "**Objetivo:** Desenvolver a capacidade de explorar e interpretar dados através de visualizações e estatísticas.\n",
    "\n",
    "**Instruções:**\n",
    "- **a.** Crie um gráfico de **Boxplot** para visualizar a distribuição da acidez fixa (`fixed acidity`) em relação à qualidade do vinho.\n",
    "- **b.** Calcule a **Correlação** entre todas as variáveis numéricas do dataset e identifique quais têm maior correlação com a qualidade do vinho.\n",
    "- **c.** Utilize um **Heatmap** para visualizar a matriz de correlação e destacar as relações mais significativas.\n",
    "- **d.** Discuta quais variáveis parecem ter mais influência na qualidade do vinho com base nas análises realizadas.\n",
    "\n",
    "**Dica:** Utilize as funções `boxplot()`, `corr()` e `heatmap()` do Seaborn para realizar essas análises.\n",
    "\n",
    "---\n",
    "\n",
    "## **4. Filtragem e Segmentação de Dados**\n",
    "\n",
    "**Objetivo:** Praticar a filtragem e segmentação de dados para análises específicas.\n",
    "\n",
    "**Instruções:**\n",
    "- **a.** Filtre o dataset para incluir apenas vinhos com `quality` igual ou superior a 7. Quantos vinhos atendem a esse critério?\n",
    "- **b.** Dentro desse subconjunto, analise a distribuição das diferentes categorias de `alcohol_level`.\n",
    "- **c.** Compare as características médias (`mean`) das principais variáveis entre vinhos de alta qualidade e os demais.\n",
    "- **d.** Discuta possíveis razões pelas quais certas características podem estar associadas a vinhos de maior qualidade.\n",
    "\n",
    "**Dica:** Utilize a função `loc[]` do Pandas para filtrar os dados e `groupby()` para agrupar e analisar as estatísticas.\n",
    "\n",
    "---\n",
    "\n",
    "## **5. Reflexão e Discussão**\n",
    "\n",
    "**Objetivo:** Estimular o pensamento crítico sobre as etapas realizadas e suas implicações.\n",
    "\n",
    "**Instruções:**\n",
    "- **a.** Quais desafios você encontrou ao tratar os valores faltantes e como os superou?\n",
    "- **b.** De que forma a criação de novas features pode impactar a performance de modelos futuros?\n",
    "- **c.** Como a visualização de dados auxilia na compreensão e comunicação dos insights obtidos?\n",
    "- **d.** Quais outras técnicas de engenharia de features ou análise exploratória você considera importantes para aprofundar neste projeto?\n",
    "\n",
    "---"
   ]
  },
  {
   "cell_type": "markdown",
   "metadata": {},
   "source": []
  }
 ],
 "metadata": {
  "language_info": {
   "name": "python"
  }
 },
 "nbformat": 4,
 "nbformat_minor": 2
}
