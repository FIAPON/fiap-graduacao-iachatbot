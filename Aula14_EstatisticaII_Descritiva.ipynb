{
 "cells": [
  {
   "cell_type": "markdown",
   "id": "cf374a0f",
   "metadata": {
    "id": "cf374a0f"
   },
   "source": [
    "# Aula 14 - Estatística Descritiva\n",
    "\n",
    "A **Estatística Descritiva** é a área da estatística que se concentra na coleta, organização, descrição e apresentação dos dados de maneira informativa. O objetivo principal da estatística descritiva é resumir grandes quantidades de dados de forma clara e compreensível, facilitando a interpretação e o entendimento das informações disponíveis.\n",
    "\n",
    "Ela é fundamental em qualquer análise de dados, pois fornece uma visão inicial dos dados antes de aplicar métodos estatísticos mais complexos, como a inferência estatística ou modelos preditivos. A estatística descritiva é amplamente utilizada em diversas áreas, incluindo negócios, saúde, ciências sociais e engenharia.\n",
    "\n",
    "\n",
    "   <p align=\"center\">\n",
    "         <img src=\"https://analisemacro.com.br/wp-content/uploads/2023/05/stat_descritiva.jpg\" alt=\"Estatistica Descritivas\" width=\"40%\">\n",
    "   </p>\n",
    "\n",
    "Média (Mean): A média é uma das medidas de tendência central mais comuns. É obtida somando todos os valores e dividindo pelo número de observações.\n",
    "\n",
    "   - Exemplo: \"Se tivermos cinco notas de 7, 8, 9, 6 e 10, a média seria a soma dessas notas (40), dividida por 5, que resulta em 8.\"\n",
    "   A média nos dá uma ideia de onde os dados estão \"concentrados\".\n",
    "\n",
    "Mediana (Median): A mediana é o valor que divide os dados ordenados em duas partes iguais.\n",
    "\n",
    "   - Exemplo: Imagine que você ordenou os dados do menor para o maior. A mediana será o valor que está exatamente no meio, se houver um número ímpar de observações. Se for um número par, a mediana será a média dos dois valores centrais.\n",
    "   - Exemplo: \"Em um conjunto de valores 3, 5, 7, 8, 9, a mediana é 7, pois está no meio.\"\n",
    "\n",
    "Moda (Mode): A moda é o valor que aparece com maior frequência no conjunto de dados.\n",
    "\n",
    "   - Exemplo: \"Se as notas de uma classe forem 6, 7, 7, 8, 9, a moda seria 7, pois é o valor que mais se repete.\"\n",
    "\n",
    "Distribuição Simétrica (Exemplo com Curva Normal): Uma distribuição simétrica, como a distribuição normal mostrada na imagem, tem a média, mediana e moda no mesmo ponto central. Esse é o caso ideal, onde os dados são igualmente distribuídos em torno da média.\n",
    "\n",
    "   - Exemplo prático: \"Se você medir a altura de uma grande população, muitas pessoas terão alturas próximas da média, e poucas pessoas serão muito baixas ou muito altas.\"\n",
    "\n",
    "Distribuição Assimétrica (Skewed Distribution): Aqui, você pode mostrar como a média, mediana e moda se comportam em uma distribuição assimétrica.\n",
    "\n",
    "   - Assimetria positiva (skewness à direita): A cauda da distribuição se estende para a direita. A média é maior que a mediana.\n",
    "   - Assimetria negativa (skewness à esquerda): A cauda se estende para a esquerda. A mediana será maior que a média.\n",
    "   - Exemplo prático: \"Pense nos salários de uma empresa. A maioria das pessoas ganha salários medianos, mas algumas poucas pessoas ganham salários extremamente altos, puxando a média para cima.\"\n",
    "\n",
    "\n",
    "## Principais Conceitos da Estatística Descritiva\n",
    "\n",
    "Abaixo estão alguns dos principais conceitos e medidas utilizados na estatística descritiva:\n",
    "\n",
    "### 1. **Medidas de Tendência Central**\n",
    "   As medidas de tendência central indicam o ponto em torno do qual os dados estão concentrados. As principais são:\n",
    "   \n",
    "   - **Média**: A soma de todos os valores dividida pelo número de observações. Representa o valor médio ou central dos dados, sendo sensível a valores extremos (outliers).\n",
    "   - **Mediana**: O valor central quando os dados são ordenados. Ela é mais robusta a outliers e é uma medida adequada para dados assimétricos.\n",
    "   - **Moda**: O valor que aparece com maior frequência no conjunto de dados. Pode ser útil em dados categóricos ou quando há repetições.\n",
    "\n",
    "   <p align=\"center\">\n",
    "      <img src=\"http://www.enciclopediafinanciera.com/images/medidas-de-tendencia-central.jpg\" alt=\"Medidas de Tendência Central\" width=\"60%\">\n",
    "   </p>\n",
    "\n",
    "\n",
    "\n",
    "### 2. **Medidas de Dispersão**\n",
    "   As medidas de dispersão indicam o quanto os dados variam ou se espalham ao redor da tendência central. As principais são:\n",
    "   \n",
    "   - **Desvio Padrão**: Mede o quanto, em média, os dados se desviam da média. Ele quantifica a variabilidade ou dispersão dos dados.\n",
    "   - **Variância**: O quadrado do desvio padrão. Embora menos intuitiva que o desvio padrão, a variância é importante em muitas fórmulas estatísticas.\n",
    "   - **Amplitude**: A diferença entre o valor máximo e o mínimo no conjunto de dados. Representa a faixa total de variação.\n",
    "   - **Quartis e Percentis**: Dividem os dados em partes iguais, como quartis (25%, 50%, 75%) ou percentis, ajudando a entender a distribuição e a dispersão.\n",
    "\n",
    "### 3. **Distribuição de Frequências**\n",
    "   As distribuições de frequências são uma forma de organizar os dados categóricos ou numéricos em diferentes classes ou categorias, mostrando a frequência com que cada valor ou classe ocorre. Gráficos de barras e histogramas são amplamente utilizados para visualizar essas distribuições.\n",
    "\n",
    "### 4. **Visualização de Dados**\n",
    "   A visualização é uma parte essencial da estatística descritiva, pois facilita a compreensão dos dados. Algumas técnicas comuns incluem:\n",
    "   \n",
    "   - **Gráficos de Barras**: Úteis para variáveis categóricas, mostrando a frequência ou a proporção de cada categoria.\n",
    "   - **Histogramas**: Utilizados para variáveis numéricas, representando a distribuição dos dados em intervalos (bins).\n",
    "   - **Boxplots**: Também conhecidos como gráficos de caixa, são usados para visualizar a distribuição dos dados, os quartis e identificar outliers.\n",
    "   - **Gráficos de Dispersão (Scatterplots)**: Utilizados para observar a relação entre duas variáveis quantitativas.\n",
    "\n",
    "\n",
    "   <p align=\"center\">\n",
    "      <img src=\"https://i.ibb.co/vHdypcS/Sem-t-tulo.png\" alt=\"Medidas de Tendência Central\" width=\"45%\">\n",
    "   </p>\n",
    "\n",
    "\n",
    "## Exemplos de Aplicação\n",
    "\n",
    "A estatística descritiva pode ser aplicada em várias situações. Por exemplo:\n",
    "\n",
    "- Em **negócios**, pode ser usada para analisar o comportamento de clientes, como idade, nível de satisfação, ou quantos produtos eles compram.\n",
    "- Na **saúde**, pode ser utilizada para entender a distribuição de idade ou taxas de recuperação de pacientes.\n",
    "- Em **ciência de dados**, é a base para preparar os dados para análises mais avançadas, como modelagem preditiva ou agrupamento (clustering).\n",
    "\n",
    "## Importância na Ciência de Dados\n",
    "\n",
    "A Estatística Descritiva é essencial na **Ciência de Dados**, pois permite:\n",
    "\n",
    "1. **Compreender os Dados**: Antes de aplicar qualquer modelo, é fundamental entender o comportamento dos dados, seus padrões e possíveis problemas, como valores ausentes ou outliers.\n",
    "2. **Identificar Tendências e Padrões**: As estatísticas descritivas podem revelar padrões e tendências ocultas, ajudando na geração de insights.\n",
    "3. **Tomar Decisões Informadas**: Mesmo sem análises complexas, a estatística descritiva pode fornecer informações valiosas para tomadas de decisão rápidas e baseadas em evidências.\n",
    "\n",
    "---\n",
    "\n",
    "# Objetivo de Negócio\n",
    "\n",
    "Neste estudo, estamos focados em demonstrar o uso de **estatística descritiva** para entender melhor um conjunto de dados fictício, que contém informações sobre alunos. O **objetivo principal** é explorar esses dados para identificar padrões, tendências e possíveis insights que possam ser utilizados para tomar decisões informadas em um contexto educacional.\n",
    "\n",
    "### Contexto do Negócio\n",
    "\n",
    "Imagine que você trabalha em uma instituição educacional que está interessada em melhorar a experiência dos alunos e aumentar a retenção nos cursos. Para isso, você precisa entender melhor o perfil dos alunos, suas idades, quantos cursos concluíram, qual é o nível de satisfação com a instituição, e como essas variáveis podem se relacionar com diferentes grupos, como o gênero.\n",
    "\n",
    "### Questões de Negócio\n",
    "\n",
    "Com base nos dados disponíveis, algumas das principais perguntas de negócio que podemos responder são:\n",
    "\n",
    "- **Qual é a distribuição de gênero entre os alunos?** Isso nos ajuda a entender se existe um equilíbrio ou se há necessidade de ações para atrair mais alunos de um determinado gênero.\n",
    "  \n",
    "- **Como é a distribuição do nível de satisfação entre os alunos?** Isso pode indicar a necessidade de melhorar a qualidade dos cursos ou a experiência educacional em geral.\n",
    "\n",
    "- **Qual é a relação entre a idade dos alunos e o número de cursos concluídos?** Entender essa relação pode ajudar a identificar padrões de comportamento e engajamento dos alunos ao longo de suas jornadas acadêmicas.\n",
    "\n",
    "- **Quais são as estatísticas descritivas para as variáveis quantitativas, como idade e número de cursos concluídos?** Isso pode revelar dados importantes sobre o perfil dos alunos, como a idade média e a variabilidade no número de cursos que concluem.\n",
    "\n",
    "### Resultados Esperados\n",
    "\n",
    "Ao final desta análise, esperamos obter uma visão mais clara dos seguintes pontos:\n",
    "\n",
    "- A distribuição dos alunos por gênero e nível de satisfação.\n",
    "- A faixa etária predominante entre os alunos e quantos cursos, em média, eles concluem.\n",
    "- A presença de padrões ou comportamentos atípicos que possam sugerir melhorias no currículo ou na oferta de cursos.\n",
    "\n",
    "Essa análise ajudará a instituição a tomar decisões estratégicas que impactem positivamente a satisfação dos alunos e seu sucesso acadêmico, promovendo uma experiência mais personalizada e eficaz.\n",
    "\n",
    "---"
   ]
  },
  {
   "cell_type": "code",
   "execution_count": null,
   "id": "842c27b2",
   "metadata": {
    "vscode": {
     "languageId": "plaintext"
    }
   },
   "outputs": [],
   "source": [
    "!rm -rf fiap-graduacao-iachatbot/"
   ]
  },
  {
   "cell_type": "code",
   "execution_count": null,
   "id": "caf52de8",
   "metadata": {
    "vscode": {
     "languageId": "plaintext"
    }
   },
   "outputs": [],
   "source": [
    "!git clone https://github.com/FIAPON/fiap-graduacao-iachatbot.git"
   ]
  },
  {
   "cell_type": "code",
   "execution_count": null,
   "id": "c54545f3",
   "metadata": {
    "vscode": {
     "languageId": "plaintext"
    }
   },
   "outputs": [],
   "source": [
    "%cd fiap-graduacao-iachatbot/"
   ]
  },
  {
   "cell_type": "code",
   "execution_count": null,
   "id": "0a7ba068",
   "metadata": {
    "vscode": {
     "languageId": "plaintext"
    }
   },
   "outputs": [],
   "source": [
    "import pandas as pd\n",
    "import numpy as np\n",
    "import matplotlib.pyplot as plt\n",
    "import seaborn as sns\n",
    "import random"
   ]
  },
  {
   "cell_type": "markdown",
   "id": "b4832c56",
   "metadata": {},
   "source": [
    "Aqui, criamos um dataset didático representando dados de estudantes. Temos quatro colunas:\n",
    "\n",
    "- **Gênero** (variável qualitativa nominal): Valores possíveis são \"Masculino\" e \"Feminino\".\n",
    "- **Nível de Satisfação** (variável qualitativa ordinal): Valores ordenados de \"Baixo\", \"Médio\" e \"Alto\".\n",
    "- **Idade** (variável quantitativa contínua): Idade dos alunos.\n",
    "- **Número de Cursos Concluídos** (variável quantitativa discreta): Quantidade de cursos concluídos pelos alunos.\n",
    "\n",
    "Esses dados servirão para demonstrar os conceitos de estatística descritiva."
   ]
  },
  {
   "cell_type": "code",
   "execution_count": null,
   "id": "84755269",
   "metadata": {
    "vscode": {
     "languageId": "plaintext"
    }
   },
   "outputs": [],
   "source": [
    "# Criando o dataset didático\n",
    "data = {\n",
    "    'Gênero': random.choices(['Masculino', 'Feminino'], k=50),\n",
    "    'Nível de Satisfação': random.choices(['Baixo', 'Médio', 'Alto'], k=50),\n",
    "    'Idade': random.choices(range(18, 60), k=50),\n",
    "    'Número de Cursos Concluídos': random.choices(range(1, 10), k=50),\n",
    "    'Horas de Estudo por Semana': random.choices(range(1, 20), k=50),\n",
    "    'Nota Média': [round(random.uniform(5.0, 10.0), 1) for _ in range(50)],\n",
    "    'Anos de Experiência': random.choices(range(0, 10), k=50),\n",
    "    'Participação em Atividades Extracurriculares': random.choices(['Sim', 'Não'], k=50),\n",
    "    'Uso de Tecnologias Educacionais': random.choices(['Sim', 'Não'], k=50),\n",
    "    'Região de Residência': random.choices(['Norte', 'Nordeste', 'Centro-Oeste', 'Sul', 'Sudeste'], k=50)\n",
    "}"
   ]
  },
  {
   "cell_type": "markdown",
   "id": "a7c52894",
   "metadata": {},
   "source": [
    "Nesta célula, os dados criados são convertidos em um **DataFrame** usando o `pandas`, que é uma estrutura de dados bidimensional com rótulos para linhas e colunas. O DataFrame facilita a manipulação e análise dos dados.\n"
   ]
  },
  {
   "cell_type": "code",
   "execution_count": null,
   "id": "9af07c67",
   "metadata": {
    "vscode": {
     "languageId": "plaintext"
    }
   },
   "outputs": [],
   "source": [
    "# Convertendo para DataFrame\n",
    "df = pd.DataFrame(data)\n"
   ]
  },
  {
   "cell_type": "markdown",
   "id": "0f7a59b0",
   "metadata": {},
   "source": [
    "Aqui calculamos as **estatísticas descritivas** para as variáveis quantitativas (`Idade` e `Número de Cursos Concluídos`). O método `describe()` do pandas gera automaticamente informações como:\n",
    "\n",
    "- **Contagem** (quantidade de observações),\n",
    "- **Média**,\n",
    "- **Desvio padrão**,\n",
    "- **Valores mínimos e máximos**,\n",
    "- **Quartis** (25%, 50% ou mediana, 75%).\n",
    "\n",
    "Essas medidas são essenciais para entender a distribuição e a variação dos dados numéricos.\n"
   ]
  },
  {
   "cell_type": "code",
   "execution_count": null,
   "id": "fd57f59a",
   "metadata": {
    "vscode": {
     "languageId": "plaintext"
    }
   },
   "outputs": [],
   "source": [
    "# Estatísticas descritivas para variáveis quantitativas\n",
    "estatisticas_quantitativas = df[['Idade', 'Número de Cursos Concluídos']].describe()\n",
    "estatisticas_quantitativas\n"
   ]
  },
  {
   "cell_type": "markdown",
   "id": "1e39a459",
   "metadata": {},
   "source": [
    "Esta célula conta a frequência de ocorrência das categorias para as variáveis qualitativas:\n",
    "\n",
    "- **Gênero**: Conta o número de alunos do gênero \"Masculino\" e \"Feminino\".\n",
    "- **Nível de Satisfação**: Conta o número de alunos em cada nível de satisfação (\"Baixo\", \"Médio\" ou \"Alto\").\n",
    "\n",
    "Isso é importante para entender a distribuição das categorias nos dados e para avaliar a representatividade de cada grupo.\n"
   ]
  },
  {
   "cell_type": "code",
   "execution_count": null,
   "id": "db5bc7ef",
   "metadata": {
    "vscode": {
     "languageId": "plaintext"
    }
   },
   "outputs": [],
   "source": [
    "# Frequência para variáveis qualitativas\n",
    "frequencia_genero = df['Gênero'].value_counts()\n",
    "frequencia_satisfacao = df['Nível de Satisfação'].value_counts()\n",
    "\n",
    "frequencia_genero, frequencia_satisfacao\n"
   ]
  },
  {
   "cell_type": "markdown",
   "id": "39a74bb7",
   "metadata": {},
   "source": [
    "Nesta célula, criamos gráficos de barras para visualizar as variáveis qualitativas:\n",
    "\n",
    "- **Gráfico de barras para Gênero**: Mostra a distribuição dos gêneros no dataset.\n",
    "- **Gráfico de barras para Nível de Satisfação**: Exibe a quantidade de pessoas em cada nível de satisfação.\n",
    "\n",
    "Esses gráficos são ferramentas visuais úteis para entender a distribuição de categorias em uma variável qualitativa.\n"
   ]
  },
  {
   "cell_type": "code",
   "execution_count": null,
   "id": "f7b385b5",
   "metadata": {
    "vscode": {
     "languageId": "plaintext"
    }
   },
   "outputs": [],
   "source": [
    "# Gráficos para variáveis qualitativas\n",
    "plt.figure(figsize=(12, 5))\n",
    "\n",
    "# Gráfico de barras para Gênero\n",
    "plt.subplot(1, 2, 1)\n",
    "sns.countplot(x='Gênero', data=df)\n",
    "plt.title('Distribuição de Gênero')\n",
    "\n",
    "# Gráfico de barras para Nível de Satisfação\n",
    "plt.subplot(1, 2, 2)\n",
    "sns.countplot(x='Nível de Satisfação', data=df, order=['Baixo', 'Médio', 'Alto'])\n",
    "plt.title('Distribuição do Nível de Satisfação')\n",
    "\n",
    "plt.tight_layout()\n",
    "plt.show()\n"
   ]
  },
  {
   "cell_type": "markdown",
   "id": "ff1acb4c",
   "metadata": {},
   "source": [
    "Aqui, visualizamos as variáveis quantitativas através de gráficos:\n",
    "\n",
    "- **Histograma para Idade**: Mostra a distribuição da idade dos alunos. O histograma é útil para entender a forma da distribuição (simétrica, assimétrica, etc.) e identificar possíveis padrões ou outliers.\n",
    "- **Boxplot para Número de Cursos Concluídos**: O boxplot ajuda a visualizar a dispersão dos dados, os quartis e identificar possíveis outliers.\n",
    "\n",
    "Essas visualizações complementam as estatísticas descritivas e fornecem uma representação gráfica do comportamento das variáveis quantitativas.\n"
   ]
  },
  {
   "cell_type": "code",
   "execution_count": null,
   "id": "d1d990d4",
   "metadata": {
    "vscode": {
     "languageId": "plaintext"
    }
   },
   "outputs": [],
   "source": [
    "# Gráficos para variáveis quantitativas\n",
    "plt.figure(figsize=(12, 5))\n",
    "\n",
    "# Histograma para Idade\n",
    "plt.subplot(1, 2, 1)\n",
    "plt.hist(df['Idade'], bins=5, color='skyblue')\n",
    "plt.title('Distribuição da Idade')\n",
    "\n",
    "# Boxplot para Número de Cursos Concluídos\n",
    "plt.subplot(1, 2, 2)\n",
    "sns.boxplot(y=df['Número de Cursos Concluídos'], color='lightgreen')\n",
    "plt.title('Distribuição do Número de Cursos Concluídos')\n",
    "\n",
    "plt.tight_layout()\n",
    "plt.show()\n"
   ]
  },
  {
   "cell_type": "markdown",
   "id": "e570819b",
   "metadata": {},
   "source": [
    "Aqui, calculamos três medidas de tendência central para a variável **Idade**:\n",
    "\n",
    "- **Média**: A soma de todos os valores dividida pelo número de observações. Representa o valor central da distribuição, mas pode ser sensível a outliers.\n",
    "- **Mediana**: O valor central quando os dados são ordenados. É uma medida mais robusta em relação a outliers.\n",
    "- **Moda**: O valor que aparece com mais frequência na distribuição.\n",
    "\n",
    "Essas medidas ajudam a entender o comportamento típico da variável idade, sendo úteis em contextos onde queremos identificar padrões gerais de idade no grupo de alunos.\n"
   ]
  },
  {
   "cell_type": "code",
   "execution_count": null,
   "id": "fc82b88b",
   "metadata": {
    "vscode": {
     "languageId": "plaintext"
    }
   },
   "outputs": [],
   "source": [
    "media = df['Idade'].mean()\n",
    "mediana = df['Idade'].median()\n",
    "moda = df['Idade'].mode()[0]\n",
    "print(f\"Média: {media}, Mediana: {mediana}, Moda: {moda}\")"
   ]
  },
  {
   "cell_type": "markdown",
   "id": "bf9eedcb",
   "metadata": {},
   "source": [
    "Aqui, calculamos três medidas de dispersão para a variável **Idade**:\n",
    "\n",
    "- **Desvio Padrão**: Mede o quanto, em média, os dados se desviam da média. Quanto maior o desvio padrão, maior a variabilidade.\n",
    "- **Variância**: É o quadrado do desvio padrão e também indica a dispersão dos dados, mas em uma escala maior.\n",
    "- **Amplitude**: A diferença entre o valor máximo e o valor mínimo da variável. É uma medida simples de dispersão que indica o intervalo de variação dos dados.\n",
    "\n",
    "Essas medidas mostram o quanto os valores de idade variam em torno da média, o que nos dá uma ideia da diversidade etária no grupo de alunos.\n"
   ]
  },
  {
   "cell_type": "code",
   "execution_count": null,
   "id": "7fd5b931",
   "metadata": {
    "vscode": {
     "languageId": "plaintext"
    }
   },
   "outputs": [],
   "source": [
    "desvio_padrao = df['Idade'].std()\n",
    "variancia = df['Idade'].var()\n",
    "amplitude = df['Idade'].max() - df['Idade'].min()\n",
    "print(f\"Desvio Padrão: {desvio_padrao}, Variância: {variancia}, Amplitude: {amplitude}\")"
   ]
  },
  {
   "cell_type": "markdown",
   "id": "c01b0e9e",
   "metadata": {},
   "source": [
    "Aqui, visualizamos a distribuição da variável **Idade** através de um histograma:\n",
    "\n",
    "- **Histograma**: Um gráfico de barras que mostra a frequência de diferentes intervalos de idade. O número de bins (intervalos) controla a granularidade da distribuição visualizada.\n",
    "  \n",
    "O histograma é útil para identificar a forma da distribuição (simétrica, assimétrica, etc.) e para observar se há concentração de alunos em determinadas faixas etárias.\n"
   ]
  },
  {
   "cell_type": "code",
   "execution_count": null,
   "id": "f3267660",
   "metadata": {
    "vscode": {
     "languageId": "plaintext"
    }
   },
   "outputs": [],
   "source": [
    "plt.hist(df['Idade'], bins=10, color='skyblue')\n",
    "plt.title('Histograma da Idade')\n",
    "plt.xlabel('Idade')\n",
    "plt.ylabel('Frequência')\n",
    "plt.show()"
   ]
  },
  {
   "cell_type": "markdown",
   "id": "176a9dfa",
   "metadata": {},
   "source": [
    "Aqui, calculamos os **quartis** para a variável **Idade**:\n",
    "\n",
    "- **Quartis**: Dividem os dados em quatro partes iguais. O primeiro quartil (25%) representa o ponto abaixo do qual 25% dos dados estão localizados, e assim por diante para o segundo (50% ou mediana) e o terceiro (75%).\n",
    "\n",
    "Esses valores são úteis para entender a distribuição dos dados e identificar a faixa em que a maioria dos alunos se encontra.\n"
   ]
  },
  {
   "cell_type": "code",
   "execution_count": null,
   "id": "30dfda9d",
   "metadata": {
    "vscode": {
     "languageId": "plaintext"
    }
   },
   "outputs": [],
   "source": [
    "quartis = df['Idade'].quantile([0.25, 0.5, 0.75])\n",
    "print(f\"Quartis: {quartis}\")"
   ]
  },
  {
   "cell_type": "markdown",
   "id": "d7a275c0",
   "metadata": {},
   "source": [
    "Aqui, visualizamos a variável **Idade** através de um **boxplot**:\n",
    "\n",
    "- **Boxplot**: Também conhecido como gráfico de caixa, ele mostra os quartis da distribuição, a mediana, e possíveis outliers (valores fora do intervalo esperado).\n",
    "  \n",
    "O boxplot oferece uma visão clara da dispersão e dos outliers, facilitando a identificação de possíveis exceções ou alunos cuja idade está fora do padrão.\n"
   ]
  },
  {
   "cell_type": "code",
   "execution_count": null,
   "id": "202f2c6d",
   "metadata": {
    "vscode": {
     "languageId": "plaintext"
    }
   },
   "outputs": [],
   "source": [
    "sns.boxplot(x=df['Idade'])\n",
    "plt.title('Boxplot da Idade')\n",
    "plt.show()\n"
   ]
  },
  {
   "cell_type": "markdown",
   "id": "5d484763",
   "metadata": {},
   "source": [
    "Aqui, visualizamos a relação entre **Idade** e **Número de Cursos Concluídos** através de um gráfico de dispersão:\n",
    "\n",
    "- **Scatterplot**: Um gráfico que exibe pontos que representam pares de valores das duas variáveis. Cada ponto no gráfico mostra a idade de um aluno e quantos cursos ele concluiu.\n",
    "  \n",
    "Esse gráfico é útil para identificar visualmente a existência de uma correlação entre as variáveis. Podemos observar padrões como tendências lineares ou a ausência de relação clara entre idade e o número de cursos concluídos.\n"
   ]
  },
  {
   "cell_type": "code",
   "execution_count": null,
   "id": "84c2d86e",
   "metadata": {
    "vscode": {
     "languageId": "plaintext"
    }
   },
   "outputs": [],
   "source": [
    "sns.scatterplot(x='Idade', y='Número de Cursos Concluídos', data=df)\n",
    "plt.title('Correlação entre Idade e Número de Cursos Concluídos')\n",
    "plt.show()\n"
   ]
  },
  {
   "cell_type": "markdown",
   "id": "27f2345a",
   "metadata": {},
   "source": [
    "\n",
    "---\n",
    "\n",
    "# Exercício: Análise Estatística Descritiva\n",
    "\n",
    "## Objetivo do Exercício\n",
    "\n",
    "Neste exercício, você será responsável por realizar uma **análise estatística descritiva** utilizando um novo conjunto de dados fictício. O objetivo principal é aplicar os conceitos de estatística descritiva que discutimos em aula, explorando as medidas de tendência central, dispersão, correlação e visualizações gráficas, com foco na geração de insights para a tomada de decisões estratégicas.\n",
    "\n",
    "## Contexto do Negócio\n",
    "\n",
    "Você trabalha como **analista de dados em uma academia de ginástica**. A administração da academia quer entender melhor o perfil de seus clientes para melhorar a oferta de serviços, como aulas e planos de exercícios personalizados. Para isso, foi coletado um conjunto de dados contendo informações sobre os clientes, incluindo:\n",
    "\n",
    "- **Gênero** (Masculino, Feminino)\n",
    "- **Idade** (anos)\n",
    "- **Nível de Satisfação** (Baixo, Médio, Alto)\n",
    "- **Horas Semanais de Exercício**\n",
    "- **Número de Meses como Cliente**\n",
    "\n",
    "O seu objetivo é realizar uma análise descritiva desses dados para responder às seguintes perguntas de negócio:\n",
    "\n",
    "1. **Qual é o perfil geral dos clientes da academia?**\n",
    "   - Quais são as idades médias e medianas dos clientes?\n",
    "   - Qual é a média e a dispersão das horas semanais de exercício?\n",
    "   - Como os clientes se distribuem por gênero e nível de satisfação?\n",
    "   \n",
    "2. **Existe uma relação entre a idade e o número de horas semanais de exercício?**\n",
    "   - Clientes mais velhos se exercitam mais ou menos do que os mais jovens?\n",
    "\n",
    "3. **O tempo de associação (em meses) influencia no nível de satisfação?**\n",
    "   - Clientes que estão há mais tempo na academia tendem a ter um nível de satisfação mais alto?\n",
    "\n",
    "## Dataset\n",
    "\n",
    "Aqui está um exemplo do dataset que você deve utilizar:\n",
    "\n",
    "| Gênero     | Idade | Nível de Satisfação | Horas Semanais de Exercício | Número de Meses como Cliente |\n",
    "|------------|-------|---------------------|-----------------------------|------------------------------|\n",
    "| Masculino  | 25    | Alto                | 5                           | 12                           |\n",
    "| Feminino   | 32    | Médio               | 4                           | 8                            |\n",
    "| Masculino  | 28    | Baixo               | 3                           | 6                            |\n",
    "| Feminino   | 40    | Alto                | 6                           | 24                           |\n",
    "| Masculino  | 22    | Médio               | 4                           | 10                           |\n",
    "| Feminino   | 35    | Baixo               | 2                           | 4                            |\n",
    "| Masculino  | 45    | Alto                | 7                           | 36                           |\n",
    "| Feminino   | 30    | Médio               | 5                           | 18                           |\n",
    "\n",
    "Você pode gerar este dataset diretamente no Python utilizando o código a seguir:\n",
    "\n",
    "```python\n",
    "import pandas as pd\n",
    "\n",
    "# Criando o dataset fictício\n",
    "data = {\n",
    "    'Gênero': ['Masculino', 'Feminino', 'Masculino', 'Feminino', 'Masculino', 'Feminino', 'Masculino', 'Feminino'],\n",
    "    'Idade': [25, 32, 28, 40, 22, 35, 45, 30],\n",
    "    'Nível de Satisfação': ['Alto', 'Médio', 'Baixo', 'Alto', 'Médio', 'Baixo', 'Alto', 'Médio'],\n",
    "    'Horas Semanais de Exercício': [5, 4, 3, 6, 4, 2, 7, 5],\n",
    "    'Número de Meses como Cliente': [12, 8, 6, 24, 10, 4, 36, 18]\n",
    "}\n",
    "\n",
    "# Convertendo para DataFrame\n",
    "df = pd.DataFrame(data)\n",
    "df\n",
    "```\n",
    "\n",
    "## Instruções\n",
    "\n",
    "1. **Medidas de Tendência Central e Dispersão**:\n",
    "   - Calcule a **média**, **mediana** e **moda** para as variáveis quantitativas, como `Idade`, `Horas Semanais de Exercício` e `Número de Meses como Cliente`.\n",
    "   - Calcule o **desvio padrão**, **variância** e **amplitude** dessas mesmas variáveis para avaliar a dispersão dos dados.\n",
    "\n",
    "2. **Distribuição de Frequências**:\n",
    "   - Calcule a **frequência** das variáveis qualitativas `Gênero` e `Nível de Satisfação` para entender a distribuição dos clientes nessas categorias.\n",
    "   \n",
    "3. **Análise Gráfica**:\n",
    "   - Crie **gráficos de barras** para as variáveis qualitativas (`Gênero` e `Nível de Satisfação`).\n",
    "   - Crie **histogramas** para as variáveis quantitativas (`Idade` e `Horas Semanais de Exercício`).\n",
    "   - Crie **boxplots** para visualizar a dispersão dos dados de `Idade` e `Número de Meses como Cliente`.\n",
    "   \n",
    "4. **Correlação**:\n",
    "   - Calcule a **correlação** entre a variável `Idade` e `Horas Semanais de Exercício`. Existe uma relação positiva ou negativa entre essas variáveis?\n",
    "   - Visualize essa correlação utilizando um **gráfico de dispersão** (scatterplot).\n",
    "   \n",
    "5. **Insights e Conclusões**:\n",
    "   - Com base nas análises realizadas, escreva uma breve conclusão sobre o perfil dos clientes da academia. Como a academia pode usar essas informações para melhorar a experiência dos clientes?\n",
    "\n",
    "---"
   ]
  },
  {
   "cell_type": "markdown",
   "id": "0d13dd7d",
   "metadata": {},
   "source": []
  }
 ],
 "metadata": {
  "colab": {
   "provenance": []
  },
  "kernelspec": {
   "display_name": "Python 3",
   "language": "python",
   "name": "python3"
  },
  "language_info": {
   "codemirror_mode": {
    "name": "ipython",
    "version": 3
   },
   "file_extension": ".py",
   "mimetype": "text/x-python",
   "name": "python",
   "nbconvert_exporter": "python",
   "pygments_lexer": "ipython3",
   "version": "3.9.5"
  }
 },
 "nbformat": 4,
 "nbformat_minor": 5
}
