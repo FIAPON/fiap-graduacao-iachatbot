{
 "cells": [
  {
   "cell_type": "markdown",
   "id": "93dd810a",
   "metadata": {
    "id": "93dd810a"
   },
   "source": [
    "# Aula 15 - Visualização de Dados\n",
    "\n",
    "Nesta aula iremos aprender a plotar gráficos utilizando bibliotecas Python usando o dataset Titanic.\n",
    "\n",
    "Além de olhar na documentação das bibliotecas para descobrir como realizar as visualizações desejadas, precisamos treinar nossa capacidade analítica para entender gráficos e saber propor as melhores visualizações.\n",
    "\n",
    "**Objetivo da Análise:**\n",
    "\n",
    "O objetivo desta análise é explorar o dataset Titanic para entender melhor os fatores que influenciaram a sobrevivência dos passageiros. Através de diferentes tipos de gráficos e técnicas de visualização, vamos identificar padrões e relações importantes, como a influência do gênero, idade, classe social e tarifas pagas na taxa de sobrevivência. Essa abordagem não apenas ajuda a desenvolver habilidades técnicas na criação de visualizações, mas também aprimora a interpretação de dados, permitindo uma análise crítica e fundamentada das informações apresentadas. Ao final, os alunos serão capazes de escolher e criar visualizações eficazes para comunicar insights a partir dos dados.\n"
   ]
  },
  {
   "cell_type": "code",
   "execution_count": 1,
   "id": "17594dc7",
   "metadata": {
    "executionInfo": {
     "elapsed": 225,
     "status": "ok",
     "timestamp": 1693435605499,
     "user": {
      "displayName": "Vinicius Holanda Cavalcante",
      "userId": "04836371402205260315"
     },
     "user_tz": 180
    },
    "id": "17594dc7"
   },
   "outputs": [],
   "source": [
    "# Importando as bibliotecas necessárias\n",
    "import pandas as pd\n",
    "import matplotlib.pyplot as plt\n",
    "import seaborn as sns"
   ]
  },
  {
   "cell_type": "code",
   "execution_count": null,
   "id": "f60ca1b1",
   "metadata": {},
   "outputs": [],
   "source": [
    "# Carregar o dataset Titanic diretamente do Seaborn\n",
    "titanic_data = sns.load_dataset('titanic')"
   ]
  },
  {
   "cell_type": "code",
   "execution_count": null,
   "id": "cc51c522",
   "metadata": {},
   "outputs": [],
   "source": [
    "# Exibir as primeiras linhas do dataset para entender sua estrutura\n",
    "titanic_data.head()"
   ]
  },
  {
   "cell_type": "code",
   "execution_count": null,
   "id": "ae042292",
   "metadata": {},
   "outputs": [],
   "source": [
    "# Exibir informações básicas sobre o dataset\n",
    "titanic_data.info()\n"
   ]
  },
  {
   "cell_type": "markdown",
   "id": "2dcc78a9",
   "metadata": {},
   "source": [
    "## Distribuição de Sobreviventes:\n",
    "\n",
    "Primeiro, vamos visualizar a distribuição dos sobreviventes para entender a proporção entre aqueles que sobreviveram e aqueles que não sobreviveram:"
   ]
  },
  {
   "cell_type": "code",
   "execution_count": null,
   "id": "751ebff3",
   "metadata": {},
   "outputs": [],
   "source": [
    "plt.figure(figsize=(6, 4))\n",
    "sns.countplot(x='survived', data=titanic_data)\n",
    "plt.title('Distribuição de Sobreviventes')\n",
    "plt.xlabel('Sobreviveu (0 = Não, 1 = Sim)')\n",
    "plt.ylabel('Contagem')\n",
    "plt.show()"
   ]
  },
  {
   "cell_type": "markdown",
   "id": "9ff27aee",
   "metadata": {},
   "source": [
    "**Interpretação**: Este gráfico de barras nos mostra a contagem absoluta de passageiros que sobreviveram versus aqueles que não sobreviveram. Uma visualização inicial como essa é essencial para entender o desbalanceamento dos dados, o que pode ser crucial ao construir modelos preditivos."
   ]
  },
  {
   "cell_type": "markdown",
   "id": "db9aea67",
   "metadata": {},
   "source": [
    "## Distribuição de Idade dos Passageiros:\n",
    "\n",
    "Analisar a distribuição da idade pode revelar insights sobre a demografia dos passageiros e como ela se relaciona com a sobrevivência:"
   ]
  },
  {
   "cell_type": "code",
   "execution_count": null,
   "id": "4a0fb57f",
   "metadata": {},
   "outputs": [],
   "source": [
    "plt.figure(figsize=(8, 5))\n",
    "sns.histplot(titanic_data['age'].dropna(), bins=30, kde=True)\n",
    "plt.title('Distribuição de Idade dos Passageiros')\n",
    "plt.xlabel('Idade')\n",
    "plt.ylabel('Frequência')\n",
    "plt.show()\n"
   ]
  },
  {
   "cell_type": "markdown",
   "id": "9a2d7bcb",
   "metadata": {},
   "source": [
    "**Interpretação**: O histograma com uma linha de densidade (KDE) ajuda a visualizar a distribuição de idades, identificando a presença de picos, como crianças pequenas e adultos em idade média. Análises adicionais poderiam investigar se certas faixas etárias tinham uma maior probabilidade de sobrevivência."
   ]
  },
  {
   "cell_type": "markdown",
   "id": "a636405d",
   "metadata": {},
   "source": [
    "## Sobrevivência por Gênero:\n",
    "\n",
    "Vamos explorar como o gênero influenciou a taxa de sobrevivência:"
   ]
  },
  {
   "cell_type": "code",
   "execution_count": null,
   "id": "5fbf5527",
   "metadata": {},
   "outputs": [],
   "source": [
    "plt.figure(figsize=(6, 4))\n",
    "sns.countplot(x='survived', hue='sex', data=titanic_data)\n",
    "plt.title('Sobrevivência por Gênero')\n",
    "plt.xlabel('Sobreviveu (0 = Não, 1 = Sim)')\n",
    "plt.ylabel('Contagem')\n",
    "plt.show()\n"
   ]
  },
  {
   "cell_type": "markdown",
   "id": "8b004ca7",
   "metadata": {},
   "source": [
    "**Interpretação**: Este gráfico de barras empilhadas destaca a diferença significativa nas taxas de sobrevivência entre homens e mulheres. No Titanic, havia uma regra de “mulheres e crianças primeiro” para os botes salva-vidas, o que explica a maior taxa de sobrevivência para mulheres. Esse insight é importante ao considerar variáveis de gênero em análises preditivas."
   ]
  },
  {
   "cell_type": "markdown",
   "id": "9d2ef6b7",
   "metadata": {},
   "source": [
    "## Classe de Passageiros e Taxa de Sobrevivência:\n",
    "\n",
    "Explorar a relação entre a classe social dos passageiros (1ª, 2ª, 3ª classe) e suas taxas de sobrevivência:"
   ]
  },
  {
   "cell_type": "code",
   "execution_count": null,
   "id": "981a9394",
   "metadata": {},
   "outputs": [],
   "source": [
    "plt.figure(figsize=(8, 5))\n",
    "sns.barplot(x='pclass', y='survived', data=titanic_data, ci=None)\n",
    "plt.title('Taxa de Sobrevivência por Classe de Passageiros')\n",
    "plt.xlabel('Classe do Passageiro')\n",
    "plt.ylabel('Taxa de Sobrevivência')\n",
    "plt.show()\n"
   ]
  },
  {
   "cell_type": "markdown",
   "id": "d181a1a3",
   "metadata": {},
   "source": [
    "**Interpretação**: Este gráfico de barras mostra que passageiros da 1ª classe tinham uma maior taxa de sobrevivência comparado com aqueles da 2ª e 3ª classe. Esse padrão provavelmente reflete o acesso mais rápido e fácil aos botes salva-vidas para passageiros em classes mais altas. Isso pode indicar que a classe social era um fator crítico na probabilidade de sobrevivência."
   ]
  },
  {
   "cell_type": "markdown",
   "id": "607ddd82",
   "metadata": {},
   "source": [
    "## Gráfico de Dispersão entre Idade e Tarifa:\n",
    "\n",
    "A relação entre a idade dos passageiros e a tarifa paga, colorida pela sobrevivência, pode revelar tendências interessantes:"
   ]
  },
  {
   "cell_type": "code",
   "execution_count": null,
   "id": "a0dd7342",
   "metadata": {},
   "outputs": [],
   "source": [
    "plt.figure(figsize=(8, 5))\n",
    "sns.scatterplot(x='age', y='fare', hue='survived', data=titanic_data)\n",
    "plt.title('Relação entre Idade e Tarifa')\n",
    "plt.xlabel('Idade')\n",
    "plt.ylabel('Tarifa')\n",
    "plt.show()\n"
   ]
  },
  {
   "cell_type": "markdown",
   "id": "993578f1",
   "metadata": {},
   "source": [
    "**Interpretação**: Este gráfico de dispersão permite observar se há uma correlação entre a tarifa paga e a probabilidade de sobrevivência. Notamos que passageiros que pagaram tarifas mais altas (provavelmente da 1ª classe) tinham uma maior chance de sobrevivência, sugerindo uma correlação entre status econômico e sobrevivência. Outliers como tarifas muito altas e baixas podem indicar a presença de passageiros em cabines de luxo ou tarifas subsidiadas.\n"
   ]
  },
  {
   "cell_type": "markdown",
   "id": "72832cfc",
   "metadata": {},
   "source": [
    "---\n",
    "## Exercício: Explorando o Dataset Titanic com Visualizações de Dados\n",
    "\n",
    "Objetivo: Analisar o dataset Titanic para identificar padrões e relações entre diferentes variáveis, utilizando técnicas de visualização de dados. Este exercício ajudará a entender como diferentes fatores podem ter influenciado a sobrevivência dos passageiros."
   ]
  },
  {
   "cell_type": "markdown",
   "id": "b5523ae5",
   "metadata": {},
   "source": [
    "- Distribuição de Passageiros por Classe: Crie um gráfico de barras para mostrar a distribuição de passageiros entre as três classes (pclass). Quais classes tinham mais passageiros?"
   ]
  },
  {
   "cell_type": "code",
   "execution_count": null,
   "id": "2178abd3",
   "metadata": {},
   "outputs": [],
   "source": []
  },
  {
   "cell_type": "markdown",
   "id": "a63b2948",
   "metadata": {},
   "source": [
    "- Taxa de Sobrevivência por Gênero: Crie um gráfico de barras que mostre a taxa de sobrevivência (survived) separada por gênero (sex). Qual gênero teve a maior taxa de sobrevivência?"
   ]
  },
  {
   "cell_type": "code",
   "execution_count": null,
   "id": "22c3844f",
   "metadata": {},
   "outputs": [],
   "source": []
  },
  {
   "cell_type": "markdown",
   "id": "edb577e4",
   "metadata": {},
   "source": [
    "- Distribuição de Idade com base na Sobrevivência: Crie um gráfico de densidade (KDE) para mostrar a distribuição da idade (age) dos passageiros que sobreviveram e dos que não sobreviveram. Você observa algum padrão em relação à idade e a sobrevivência?"
   ]
  },
  {
   "cell_type": "code",
   "execution_count": null,
   "id": "e45103f1",
   "metadata": {},
   "outputs": [],
   "source": []
  },
  {
   "cell_type": "markdown",
   "id": "0f645697",
   "metadata": {},
   "source": [
    "- Relação entre Tarifa e Sobrevivência: Utilize um gráfico de dispersão para explorar a relação entre a tarifa paga (fare) e a sobrevivência. Os passageiros que pagaram tarifas mais altas tiveram maior chance de sobrevivência?"
   ]
  },
  {
   "cell_type": "code",
   "execution_count": null,
   "id": "2a88ce55",
   "metadata": {},
   "outputs": [],
   "source": []
  },
  {
   "cell_type": "markdown",
   "id": "693e2f98",
   "metadata": {},
   "source": [
    "Questões para Reflexão:\n",
    "\n",
    "- Quais insights você conseguiu extrair sobre a sobrevivência dos passageiros?\n",
    "- Que tipo de correlação você observou entre a classe do passageiro e a taxa de sobrevivência?\n",
    "- Como o gênero afetou a taxa de sobrevivência? Houve diferenças notáveis?\n",
    "- Você notou alguma relação entre a idade dos passageiros e a probabilidade de sobrevivência?\n",
    "- Que outras visualizações poderiam ser úteis para explorar mais profundamente os dados?"
   ]
  },
  {
   "cell_type": "markdown",
   "id": "53d8f067",
   "metadata": {},
   "source": [
    "---\n",
    "\n",
    "Desafio Extra (Opcional):\n",
    "\n",
    "- Crie uma visualização que mostre a sobrevivência dos passageiros em função de mais de uma variável ao mesmo tempo. Por exemplo, você pode usar um gráfico de barras empilhadas para mostrar a sobrevivência em função da classe e do gênero, ou um gráfico de violino para explorar a distribuição de idade por classe e sobrevivência."
   ]
  },
  {
   "cell_type": "code",
   "execution_count": null,
   "id": "12099823",
   "metadata": {},
   "outputs": [],
   "source": []
  },
  {
   "cell_type": "markdown",
   "id": "7969767d",
   "metadata": {},
   "source": [
    "---\n",
    "\n",
    "## Dataset Tips\n",
    "\n",
    "Descrição: Este dataset contém informações sobre gorjetas em um restaurante, incluindo:\n",
    "\n",
    "- valor total da conta\n",
    "- o valor da gorjeta\n",
    "- o gênero do cliente\n",
    "- se havia fumantes na mesa\n",
    "- o dia da semana \n",
    "- hora do dia.\n",
    "\n",
    "Objetivos da Análise do Dataset Tips\n",
    "\n",
    "- Explorar a Relação entre o Valor da Conta e a Gorjeta:\n",
    "    * Como o valor total da conta influencia o valor da gorjeta?\n",
    "    * Existe uma relação linear entre o valor da conta e a gorjeta?\n",
    "\n",
    "- Analisar a Influência de Variáveis Categóricas:\n",
    "    * Como o sexo do cliente, se havia fumantes na mesa, o dia da semana, e o horário (almoço ou jantar) afetam o valor da gorjeta?\n",
    "    * Essas variáveis influenciam a porcentagem da gorjeta em relação ao total da conta?\n",
    "\n",
    "- Identificar Padrões Sazonais e Comportamentais:\n",
    "    * Existem dias da semana em que os clientes tendem a dar gorjetas maiores?\n",
    "    * O valor da gorjeta é maior no jantar comparado ao almoço?"
   ]
  },
  {
   "cell_type": "code",
   "execution_count": null,
   "id": "b3101a58",
   "metadata": {},
   "outputs": [],
   "source": [
    "import seaborn as sns\n",
    "import pandas as pd\n",
    "import matplotlib.pyplot as plt\n",
    "\n",
    "# Carregar o dataset Tips\n",
    "tips_data = sns.load_dataset('tips')\n",
    "\n",
    "# Exibir as primeiras linhas do dataset\n",
    "print(tips_data.head())\n",
    "\n",
    "# Exibir informações sobre o dataset\n",
    "print(tips_data.info())\n"
   ]
  },
  {
   "cell_type": "markdown",
   "id": "db44605e",
   "metadata": {},
   "source": [
    "## Visualização Básica da Relação entre Total da Conta e Gorjeta:"
   ]
  },
  {
   "cell_type": "code",
   "execution_count": null,
   "id": "d6f987e2",
   "metadata": {},
   "outputs": [],
   "source": [
    "plt.figure(figsize=(8, 5))\n",
    "sns.scatterplot(data=tips_data, x='total_bill', y='tip')\n",
    "plt.title('Relação entre Total da Conta e Gorjeta')\n",
    "plt.xlabel('Total da Conta (USD)')\n",
    "plt.ylabel('Gorjeta (USD)')\n",
    "plt.show()\n"
   ]
  },
  {
   "cell_type": "markdown",
   "id": "f4a872b5",
   "metadata": {},
   "source": [
    "Interpretação: Um gráfico de dispersão simples para visualizar a relação entre o total da conta e o valor da gorjeta. Este gráfico ajuda a entender se há uma correlação direta entre essas duas variáveis."
   ]
  },
  {
   "cell_type": "markdown",
   "id": "95b81048",
   "metadata": {},
   "source": [
    "Análise da Proporção da Gorjeta em Relação ao Total da Conta:"
   ]
  },
  {
   "cell_type": "code",
   "execution_count": null,
   "id": "89a0ab18",
   "metadata": {},
   "outputs": [],
   "source": [
    "# Criar uma nova coluna para a proporção da gorjeta\n",
    "tips_data['tip_percent'] = (tips_data['tip'] / tips_data['total_bill']) * 100\n",
    "\n",
    "plt.figure(figsize=(8, 5))\n",
    "sns.histplot(tips_data['tip_percent'], bins=20, kde=True)\n",
    "plt.title('Distribuição da Proporção da Gorjeta em Relação ao Total da Conta')\n",
    "plt.xlabel('Proporção da Gorjeta (%)')\n",
    "plt.ylabel('Frequência')\n",
    "plt.show()\n"
   ]
  },
  {
   "cell_type": "markdown",
   "id": "cb8699a9",
   "metadata": {},
   "source": [
    "Interpretação: Esse gráfico mostra como a proporção da gorjeta em relação ao total da conta varia. Isso é útil para entender o comportamento de gorjeta dos clientes em termos percentuais."
   ]
  },
  {
   "cell_type": "markdown",
   "id": "460865cd",
   "metadata": {},
   "source": [
    "Comparação de Gorjetas por Gênero:"
   ]
  },
  {
   "cell_type": "code",
   "execution_count": null,
   "id": "22bf1bac",
   "metadata": {},
   "outputs": [],
   "source": [
    "plt.figure(figsize=(6, 4))\n",
    "sns.boxplot(x='sex', y='tip_percent', data=tips_data)\n",
    "plt.title('Distribuição da Proporção da Gorjeta por Gênero')\n",
    "plt.xlabel('Gênero')\n",
    "plt.ylabel('Proporção da Gorjeta (%)')\n",
    "plt.show()\n"
   ]
  },
  {
   "cell_type": "markdown",
   "id": "ee4c92f9",
   "metadata": {},
   "source": [
    "Interpretação: Um boxplot que compara a distribuição das porcentagens de gorjeta dadas por homens e mulheres. Pode-se observar se há diferença significativa no comportamento de gorjeta entre os gêneros."
   ]
  },
  {
   "cell_type": "markdown",
   "id": "764df5a0",
   "metadata": {},
   "source": [
    "Efeito de Fumar na Gorjeta:"
   ]
  },
  {
   "cell_type": "code",
   "execution_count": null,
   "id": "f9aa5f32",
   "metadata": {},
   "outputs": [],
   "source": [
    "plt.figure(figsize=(6, 4))\n",
    "sns.boxplot(x='smoker', y='tip_percent', data=tips_data)\n",
    "plt.title('Distribuição da Proporção da Gorjeta entre Fumantes e Não Fumantes')\n",
    "plt.xlabel('Fumante')\n",
    "plt.ylabel('Proporção da Gorjeta (%)')\n",
    "plt.show()\n"
   ]
  },
  {
   "cell_type": "markdown",
   "id": "d1d6d253",
   "metadata": {},
   "source": [
    "Interpretação: Este boxplot compara a porcentagem de gorjetas entre mesas com fumantes e não fumantes. Pode indicar se há uma diferença no comportamento de gorjeta associado ao hábito de fumar."
   ]
  },
  {
   "cell_type": "markdown",
   "id": "bde05357",
   "metadata": {},
   "source": [
    "Análise por Dia da Semana e Horário (Almoço vs. Jantar):"
   ]
  },
  {
   "cell_type": "code",
   "execution_count": null,
   "id": "7082d1c1",
   "metadata": {},
   "outputs": [],
   "source": [
    "plt.figure(figsize=(10, 5))\n",
    "sns.boxplot(x='day', y='tip_percent', hue='time', data=tips_data)\n",
    "plt.title('Distribuição da Proporção da Gorjeta por Dia da Semana e Horário')\n",
    "plt.xlabel('Dia da Semana')\n",
    "plt.ylabel('Proporção da Gorjeta (%)')\n",
    "plt.legend(title='Horário')\n",
    "plt.show()\n"
   ]
  },
  {
   "cell_type": "markdown",
   "id": "7b7678fd",
   "metadata": {},
   "source": [
    "Interpretação: Este gráfico mostra como as porcentagens de gorjeta variam ao longo dos dias da semana e se há diferenças significativas entre almoço e jantar."
   ]
  },
  {
   "cell_type": "markdown",
   "id": "dc5ef739",
   "metadata": {},
   "source": [
    "Análise da Influência do Tamanho da Mesa (Número de Pessoas) na Gorjeta:"
   ]
  },
  {
   "cell_type": "code",
   "execution_count": null,
   "id": "7e0d5bc8",
   "metadata": {},
   "outputs": [],
   "source": [
    "plt.figure(figsize=(8, 5))\n",
    "sns.barplot(x='size', y='tip_percent', data=tips_data, ci=None)\n",
    "plt.title('Proporção Média da Gorjeta em Relação ao Tamanho da Mesa')\n",
    "plt.xlabel('Tamanho da Mesa')\n",
    "plt.ylabel('Proporção da Gorjeta (%)')\n",
    "plt.show()\n"
   ]
  },
  {
   "cell_type": "markdown",
   "id": "e53ce467",
   "metadata": {},
   "source": [
    "Interpretação: Este gráfico de barras ajuda a entender se o tamanho do grupo de clientes (número de pessoas na mesa) afeta a proporção de gorjeta dada.\n",
    "\n",
    "---\n",
    "\n",
    "Questões para Reflexão e Discussão:\n",
    "\n",
    "- Qual é a relação mais forte que você observou entre variáveis específicas e a proporção da gorjeta?\n",
    "- Há algum comportamento de gorjeta inesperado que foi revelado por estas visualizações?\n",
    "- Como a compreensão dessas relações pode influenciar estratégias para melhorar a experiência dos clientes em um restaurante?\n",
    "- Existem outras variáveis ou interações entre variáveis que poderiam ser exploradas para entender melhor o comportamento de gorjetas?"
   ]
  }
 ],
 "metadata": {
  "colab": {
   "provenance": []
  },
  "kernelspec": {
   "display_name": "Python 3",
   "language": "python",
   "name": "python3"
  },
  "language_info": {
   "codemirror_mode": {
    "name": "ipython",
    "version": 3
   },
   "file_extension": ".py",
   "mimetype": "text/x-python",
   "name": "python",
   "nbconvert_exporter": "python",
   "pygments_lexer": "ipython3",
   "version": "3.9.5"
  }
 },
 "nbformat": 4,
 "nbformat_minor": 5
}
